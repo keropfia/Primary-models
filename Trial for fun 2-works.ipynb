{
  "nbformat": 4,
  "nbformat_minor": 0,
  "metadata": {
    "colab": {
      "provenance": [],
      "authorship_tag": "ABX9TyMcJLVrDdFQ/I1Gm9BP9EIY",
      "include_colab_link": true
    },
    "kernelspec": {
      "name": "python3",
      "display_name": "Python 3"
    },
    "language_info": {
      "name": "python"
    }
  },
  "cells": [
    {
      "cell_type": "markdown",
      "metadata": {
        "id": "view-in-github",
        "colab_type": "text"
      },
      "source": [
        "<a href=\"https://colab.research.google.com/github/keropfia/Primary-models/blob/main/Trial%20for%20fun%202-works.ipynb\" target=\"_parent\"><img src=\"https://colab.research.google.com/assets/colab-badge.svg\" alt=\"Open In Colab\"/></a>"
      ]
    },
    {
      "cell_type": "code",
      "source": [
        "!pip install lmfit"
      ],
      "metadata": {
        "colab": {
          "base_uri": "https://localhost:8080/"
        },
        "id": "pw7g-yNkevhC",
        "outputId": "30c7af44-a798-4e50-c803-81cdffebd4bc"
      },
      "execution_count": 9,
      "outputs": [
        {
          "output_type": "stream",
          "name": "stdout",
          "text": [
            "Collecting lmfit\n",
            "  Downloading lmfit-1.3.4-py3-none-any.whl.metadata (8.8 kB)\n",
            "Collecting asteval>=1.0 (from lmfit)\n",
            "  Downloading asteval-1.0.6-py3-none-any.whl.metadata (6.2 kB)\n",
            "Requirement already satisfied: numpy>=1.24 in /usr/local/lib/python3.12/dist-packages (from lmfit) (2.0.2)\n",
            "Requirement already satisfied: scipy>=1.10.0 in /usr/local/lib/python3.12/dist-packages (from lmfit) (1.16.2)\n",
            "Collecting uncertainties>=3.2.2 (from lmfit)\n",
            "  Downloading uncertainties-3.2.3-py3-none-any.whl.metadata (7.0 kB)\n",
            "Requirement already satisfied: dill>=0.3.4 in /usr/local/lib/python3.12/dist-packages (from lmfit) (0.3.8)\n",
            "Downloading lmfit-1.3.4-py3-none-any.whl (97 kB)\n",
            "\u001b[2K   \u001b[90m━━━━━━━━━━━━━━━━━━━━━━━━━━━━━━━━━━━━━━━━\u001b[0m \u001b[32m97.7/97.7 kB\u001b[0m \u001b[31m2.2 MB/s\u001b[0m eta \u001b[36m0:00:00\u001b[0m\n",
            "\u001b[?25hDownloading asteval-1.0.6-py3-none-any.whl (22 kB)\n",
            "Downloading uncertainties-3.2.3-py3-none-any.whl (60 kB)\n",
            "\u001b[2K   \u001b[90m━━━━━━━━━━━━━━━━━━━━━━━━━━━━━━━━━━━━━━━━\u001b[0m \u001b[32m60.1/60.1 kB\u001b[0m \u001b[31m5.4 MB/s\u001b[0m eta \u001b[36m0:00:00\u001b[0m\n",
            "\u001b[?25hInstalling collected packages: uncertainties, asteval, lmfit\n",
            "Successfully installed asteval-1.0.6 lmfit-1.3.4 uncertainties-3.2.3\n"
          ]
        }
      ]
    },
    {
      "cell_type": "code",
      "source": [
        "import numpy as np\n",
        "import pandas as pd\n",
        "import matplotlib.pyplot as plt\n",
        "import lmfit\n",
        "from lmfit import Model"
      ],
      "metadata": {
        "id": "WSk9O1foezjB"
      },
      "execution_count": 10,
      "outputs": []
    },
    {
      "cell_type": "code",
      "source": [
        "df = pd.read_excel(\"B. cereus growth data.xlsx\")\n",
        "print(df)"
      ],
      "metadata": {
        "colab": {
          "base_uri": "https://localhost:8080/"
        },
        "id": "-qRkZqe6OibT",
        "outputId": "96457215-c881-42f0-c179-ee419f6079b9"
      },
      "execution_count": 11,
      "outputs": [
        {
          "output_type": "stream",
          "name": "stdout",
          "text": [
            "    Time (h)      Rep1      Rep2      Rep3\n",
            "0          0  3.982365  3.827031  3.911132\n",
            "1          4  3.846654  3.763745  3.932556\n",
            "2          8  3.963752  3.930527  3.918763\n",
            "3         12  3.520305  3.927485  3.788320\n",
            "4         16  3.969261  3.861798  3.770790\n",
            "5         20  3.930336  3.849437  3.980016\n",
            "6         24  4.429522  4.523595  4.414396\n",
            "7         28  4.277665  4.385004  4.305009\n",
            "8         32  5.173528  5.226381  5.125501\n",
            "9         36  5.016071  4.831717  4.909100\n",
            "10        40  5.611515  5.624286  5.641800\n",
            "11        44  5.581323  5.643726  5.676382\n",
            "12        48  6.577803  6.559915  6.654384\n",
            "13        56  6.892184  6.846321  6.935704\n",
            "14        64  7.758486  7.522454  7.654999\n",
            "15        72  7.429599  7.425471  7.434580\n"
          ]
        }
      ]
    },
    {
      "cell_type": "code",
      "source": [
        "replicate_cols = ['Rep1', 'Rep2', 'Rep3']"
      ],
      "metadata": {
        "id": "XukcpVLjO5GE"
      },
      "execution_count": 12,
      "outputs": []
    },
    {
      "cell_type": "code",
      "source": [
        "df['Mean'] = df[replicate_cols].mean(axis=1)\n",
        "df['Std'] = df[replicate_cols].std(axis=1)"
      ],
      "metadata": {
        "id": "IX_9IL59O8wO"
      },
      "execution_count": 13,
      "outputs": []
    },
    {
      "cell_type": "code",
      "source": [
        "df['Time (h)'] = pd.to_numeric(df['Time (h)'], errors='coerce')\n",
        "df = df.dropna(subset=['Time (h)', 'Mean'])"
      ],
      "metadata": {
        "id": "go8z6yJsO_Gz"
      },
      "execution_count": 14,
      "outputs": []
    },
    {
      "cell_type": "code",
      "source": [
        "def baranyi_log10(x, logN0_baranyi, logN_max_baranyi, mu_baranyi, lambda_baranyi):\n",
        "    x = np.array(x)\n",
        "    numerator = -1 + np.exp(mu_baranyi * lambda_baranyi) + np.exp(mu_baranyi * x)\n",
        "    denominator = -1 + np.exp(mu_baranyi * x) + np.exp(mu_baranyi * lambda_baranyi) * 10**(logN_max_baranyi - logN0_baranyi)\n",
        "    f = logN_max_baranyi + np.log10(numerator / denominator)\n",
        "    return f"
      ],
      "metadata": {
        "id": "MLy_uN84PDh-"
      },
      "execution_count": 15,
      "outputs": []
    },
    {
      "cell_type": "code",
      "source": [
        "model = Model(baranyi_log10)"
      ],
      "metadata": {
        "id": "ZpfTMbU4PHFF"
      },
      "execution_count": 16,
      "outputs": []
    },
    {
      "cell_type": "code",
      "source": [
        "params = model.make_params(\n",
        "    logN0_baranyi=df['Mean'].min(),\n",
        "    logN_max_baranyi=df['Mean'].max(),\n",
        "    mu_baranyi=0.5,\n",
        "    lambda_baranyi=1\n",
        "    )"
      ],
      "metadata": {
        "id": "gc8tFCTUPKGO"
      },
      "execution_count": 19,
      "outputs": []
    },
    {
      "cell_type": "code",
      "source": [
        "params['logN0_baranyi'].min = 0\n",
        "params['logN_max_baranyi'].min = df['Mean'].min()\n",
        "params['mu_baranyi'].min = 1e-6\n",
        "params['lambda_baranyi'].min = 0"
      ],
      "metadata": {
        "id": "-K2bEigIPXRl"
      },
      "execution_count": 20,
      "outputs": []
    },
    {
      "cell_type": "code",
      "source": [
        "result = model.fit(df['Mean'], params, x=df['Time (h)'])"
      ],
      "metadata": {
        "id": "Di222CNRPbk6"
      },
      "execution_count": 21,
      "outputs": []
    },
    {
      "cell_type": "code",
      "source": [
        "print(result.fit_report())"
      ],
      "metadata": {
        "colab": {
          "base_uri": "https://localhost:8080/"
        },
        "id": "BE6AltSnPeBv",
        "outputId": "de28ac74-f9e0-4f1d-a5f7-48b51e3fdcf8"
      },
      "execution_count": 22,
      "outputs": [
        {
          "output_type": "stream",
          "name": "stdout",
          "text": [
            "[[Model]]\n",
            "    Model(baranyi_log10)\n",
            "[[Fit Statistics]]\n",
            "    # fitting method   = leastsq\n",
            "    # function evals   = 56\n",
            "    # data points      = 16\n",
            "    # variables        = 4\n",
            "    chi-square         = 0.58011134\n",
            "    reduced chi-square = 0.04834261\n",
            "    Akaike info crit   = -45.0739833\n",
            "    Bayesian info crit = -41.9836284\n",
            "    R-squared          = 0.97932693\n",
            "[[Variables]]\n",
            "    logN0_baranyi:     3.83877332 +/- 0.10569037 (2.75%) (init = 3.74537)\n",
            "    logN_max_baranyi:  7.59808129 +/- 0.20882278 (2.75%) (init = 7.645313)\n",
            "    mu_baranyi:        0.22616815 +/- 0.02414971 (10.68%) (init = 0.5)\n",
            "    lambda_baranyi:    22.4709642 +/- 2.62650153 (11.69%) (init = 1)\n",
            "[[Correlations]] (unreported correlations are < 0.100)\n",
            "    C(mu_baranyi, lambda_baranyi)       = +0.8206\n",
            "    C(logN0_baranyi, lambda_baranyi)    = +0.7048\n",
            "    C(logN_max_baranyi, mu_baranyi)     = -0.4105\n",
            "    C(logN0_baranyi, mu_baranyi)        = +0.3380\n",
            "    C(logN_max_baranyi, lambda_baranyi) = -0.2612\n",
            "    C(logN0_baranyi, logN_max_baranyi)  = -0.1069\n"
          ]
        }
      ]
    },
    {
      "cell_type": "code",
      "source": [
        "time_fine = np.linspace(df['Time (h)'].min(), df['Time (h)'].max(), 200)\n",
        "fit_fine = result.eval(x=time_fine)  # Evaluate the fitted model at finer points\n",
        "\n",
        "plt.errorbar(df['Time (h)'], df['Mean'], yerr=df['Std'], fmt='o', label='Data (mean ± SD)')\n",
        "plt.plot(time_fine, fit_fine, 'r-', label='Baranyi Fit')\n",
        "plt.xlabel('Time (h)')\n",
        "plt.ylabel('Log10 CFU/mL')\n",
        "plt.legend()\n",
        "plt.show()"
      ],
      "metadata": {
        "colab": {
          "base_uri": "https://localhost:8080/",
          "height": 449
        },
        "id": "2VK85HyLP8TM",
        "outputId": "fe9cbb5b-e8ee-42b6-c94b-a64cfae4d39a"
      },
      "execution_count": 26,
      "outputs": [
        {
          "output_type": "display_data",
          "data": {
            "text/plain": [
              "<Figure size 640x480 with 1 Axes>"
            ],
            "image/png": "[encoded data removed]"
          },
          "metadata": {}
        }
      ]
    },
    {
      "cell_type": "code",
      "source": [
        "logN0_fit = result.params['logN0_baranyi'].value\n",
        "logNmax_fit = result.params['logN_max_baranyi'].value\n",
        "mumax_fit = result.params['mu_baranyi'].value\n",
        "lambda_fit = result.params['lambda_baranyi'].value\n",
        "\n",
        "print(f\"Fitted parameters:\")\n",
        "print(f\"logN0 = {logN0_fit:.2f}\")\n",
        "print(f\"logNmax = {logNmax_fit:.2f}\")\n",
        "print(f\"mu_max = {mumax_fit:.3f}\")\n",
        "print(f\"lag phase (lambda) = {lambda_fit:.2f} hours\")"
      ],
      "metadata": {
        "colab": {
          "base_uri": "https://localhost:8080/"
        },
        "id": "bNESLXVHQOE-",
        "outputId": "d9c711dc-e2a4-4090-8b8a-83ece9bece34"
      },
      "execution_count": 24,
      "outputs": [
        {
          "output_type": "stream",
          "name": "stdout",
          "text": [
            "Fitted parameters:\n",
            "logN0 = 3.84\n",
            "logNmax = 7.60\n",
            "mu_max = 0.226\n",
            "lag phase (lambda) = 22.47 hours\n"
          ]
        }
      ]
    }
  ]
}