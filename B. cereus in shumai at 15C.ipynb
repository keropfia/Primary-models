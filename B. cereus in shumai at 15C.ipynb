{
  "nbformat": 4,
  "nbformat_minor": 0,
  "metadata": {
    "colab": {
      "provenance": [],
      "authorship_tag": "ABX9TyOlM/sPncMdi7JzUhHbbRyy",
      "include_colab_link": true
    },
    "kernelspec": {
      "name": "python3",
      "display_name": "Python 3"
    },
    "language_info": {
      "name": "python"
    }
  },
  "cells": [
    {
      "cell_type": "markdown",
      "metadata": {
        "id": "view-in-github",
        "colab_type": "text"
      },
      "source": [
        "<a href=\"https://colab.research.google.com/github/keropfia/Primary-models/blob/main/B.%20cereus%20in%20shumai%20at%2015C.ipynb\" target=\"_parent\"><img src=\"https://colab.research.google.com/assets/colab-badge.svg\" alt=\"Open In Colab\"/></a>"
      ]
    },
    {
      "cell_type": "code",
      "execution_count": 1,
      "metadata": {
        "id": "ILLzGJgQcY7G",
        "colab": {
          "base_uri": "https://localhost:8080/"
        },
        "outputId": "6e07fdf4-8a32-462d-db9e-b32d01028737"
      },
      "outputs": [
        {
          "output_type": "stream",
          "name": "stdout",
          "text": [
            "Collecting lmfit\n",
            "  Downloading lmfit-1.3.4-py3-none-any.whl.metadata (8.8 kB)\n",
            "Collecting asteval>=1.0 (from lmfit)\n",
            "  Downloading asteval-1.0.6-py3-none-any.whl.metadata (6.2 kB)\n",
            "Requirement already satisfied: numpy>=1.24 in /usr/local/lib/python3.12/dist-packages (from lmfit) (2.0.2)\n",
            "Requirement already satisfied: scipy>=1.10.0 in /usr/local/lib/python3.12/dist-packages (from lmfit) (1.16.2)\n",
            "Collecting uncertainties>=3.2.2 (from lmfit)\n",
            "  Downloading uncertainties-3.2.3-py3-none-any.whl.metadata (7.0 kB)\n",
            "Requirement already satisfied: dill>=0.3.4 in /usr/local/lib/python3.12/dist-packages (from lmfit) (0.3.8)\n",
            "Downloading lmfit-1.3.4-py3-none-any.whl (97 kB)\n",
            "\u001b[2K   \u001b[90m━━━━━━━━━━━━━━━━━━━━━━━━━━━━━━━━━━━━━━━━\u001b[0m \u001b[32m97.7/97.7 kB\u001b[0m \u001b[31m3.2 MB/s\u001b[0m eta \u001b[36m0:00:00\u001b[0m\n",
            "\u001b[?25hDownloading asteval-1.0.6-py3-none-any.whl (22 kB)\n",
            "Downloading uncertainties-3.2.3-py3-none-any.whl (60 kB)\n",
            "\u001b[2K   \u001b[90m━━━━━━━━━━━━━━━━━━━━━━━━━━━━━━━━━━━━━━━━\u001b[0m \u001b[32m60.1/60.1 kB\u001b[0m \u001b[31m4.5 MB/s\u001b[0m eta \u001b[36m0:00:00\u001b[0m\n",
            "\u001b[?25hInstalling collected packages: uncertainties, asteval, lmfit\n",
            "Successfully installed asteval-1.0.6 lmfit-1.3.4 uncertainties-3.2.3\n"
          ]
        }
      ],
      "source": [
        "!pip install lmfit"
      ]
    },
    {
      "cell_type": "code",
      "source": [
        "import numpy as np\n",
        "import pandas as pd\n",
        "import matplotlib.pyplot as plt\n",
        "import lmfit\n",
        "from lmfit import Model"
      ],
      "metadata": {
        "id": "wVsCSMjhfLi_"
      },
      "execution_count": 33,
      "outputs": []
    },
    {
      "cell_type": "code",
      "source": [
        "df = pd.read_excel(\"B. cereus growth data.xlsx\")\n",
        "print(df)"
      ],
      "metadata": {
        "colab": {
          "base_uri": "https://localhost:8080/"
        },
        "id": "ehI5-BlifThh",
        "outputId": "5bf07b5b-8d83-4df1-d7ee-04db6ce7dff8"
      },
      "execution_count": 34,
      "outputs": [
        {
          "output_type": "stream",
          "name": "stdout",
          "text": [
            "    Time (h)      Rep1      Rep2      Rep3      logN        sd\n",
            "0          0  3.982365  3.827031  3.911132  3.906842  0.077756\n",
            "1          4  3.846654  3.763745  3.932556  3.847652  0.084410\n",
            "2          8  3.963752  3.930527  3.918763  3.937681  0.023332\n",
            "3         12  3.520305  3.927485  3.788320  3.745370  0.206960\n",
            "4         16  3.969261  3.861798  3.770790  3.867283  0.099349\n",
            "5         20  3.930336  3.849437  3.980016  3.919929  0.065909\n",
            "6         24  4.429522  4.523595  4.414396  4.455838  0.059165\n",
            "7         28  4.277665  4.385004  4.305009  4.322559  0.055780\n",
            "8         32  5.173528  5.226381  5.125501  5.175137  0.050459\n",
            "9         36  5.016071  4.831717  4.909100  4.918963  0.092572\n",
            "10        40  5.611515  5.624286  5.641800  5.625867  0.015204\n",
            "11        44  5.581323  5.643726  5.676382  5.633810  0.048299\n",
            "12        48  6.577803  6.559915  6.654384  6.597367  0.050182\n",
            "13        56  6.892184  6.846321  6.935704  6.891403  0.044697\n",
            "14        64  7.758486  7.522454  7.654999  7.645313  0.118314\n",
            "15        72  7.429599  7.425471  7.434580  7.429884  0.004561\n"
          ]
        }
      ]
    },
    {
      "cell_type": "code",
      "source": [
        "df['Mean'] = df[['Rep1', 'Rep2', 'Rep3']].mean(axis=1)\n",
        "df['Std'] = df[['Rep1', 'Rep2', 'Rep3']].std(axis=1)"
      ],
      "metadata": {
        "id": "7rmqEg24jbJP"
      },
      "execution_count": 77,
      "outputs": []
    },
    {
      "cell_type": "code",
      "source": [
        "def baranyi_dmfit(t, y0, y_end, umax, lag):\n",
        "    \"\"\"\n",
        "    Baranyi growth model in log10 scale (DMFit-compatible)\n",
        "\n",
        "    Parameters\n",
        "    ----------\n",
        "    t : time (h)\n",
        "    y0 : initial log10 population\n",
        "    y_end : final log10 population\n",
        "    umax : maximum growth rate (log10 units per hour)\n",
        "    lag : lag time (h)\n",
        "    \"\"\"\n",
        "    ln10 = np.log(10.0)\n",
        "    t = np.array(t)\n",
        "    numerator = -1 + np.exp(ln10 * umax * lag) + np.exp(ln10 * umax * t)\n",
        "    denominator = -1 + np.exp(ln10 * umax * t) + np.exp(ln10 * umax * lag) * 10 ** (y_end - y0)\n",
        "    return y_end + np.log10(numerator / denominator)"
      ],
      "metadata": {
        "id": "u-qfdimjjcyV"
      },
      "execution_count": 78,
      "outputs": []
    },
    {
      "cell_type": "code",
      "source": [
        "model = Model(baranyi_dmfit)\n",
        "\n",
        "params = model.make_params(\n",
        "    y0=df['Mean'].iloc[0],              # start from first measured log10 value\n",
        "    y_end=df['Mean'].max(),             # use max observed value as guess\n",
        "    umax=0.1,                           # initial guess (log10/h)\n",
        "    lag=5                               # initial guess for lag time (h)\n",
        ")"
      ],
      "metadata": {
        "id": "avB9tmN5jghd"
      },
      "execution_count": 79,
      "outputs": []
    },
    {
      "cell_type": "code",
      "source": [
        "params['y0'].min = 0\n",
        "params['y_end'].min = params['y0'].value\n",
        "params['umax'].min = 0\n",
        "params['lag'].min = 0"
      ],
      "metadata": {
        "id": "AipeAavOjkXr"
      },
      "execution_count": 80,
      "outputs": []
    },
    {
      "cell_type": "code",
      "source": [
        "result = model.fit(df['Mean'], params, t=df['Time (h)'])"
      ],
      "metadata": {
        "id": "VR_9OsjVjnKW"
      },
      "execution_count": 81,
      "outputs": []
    },
    {
      "cell_type": "code",
      "source": [
        "t_smooth = np.linspace(df['Time (h)'].min(), df['Time (h)'].max(), 200)\n",
        "y_pred = baranyi_dmfit(t_smooth, **result.best_values)"
      ],
      "metadata": {
        "id": "6r0X1PIpjpaF"
      },
      "execution_count": 82,
      "outputs": []
    },
    {
      "cell_type": "code",
      "source": [
        "plt.figure(figsize=(8,5))\n",
        "plt.errorbar(df['Time (h)'], df['Mean'], yerr=df['Std'], fmt='o', capsize=3, label='Observed (Mean ± SD)')\n",
        "plt.plot(t_smooth, y_pred, 'r-', lw=2, label='Fitted Baranyi curve')\n",
        "plt.xlabel('Time (h)')\n",
        "plt.ylabel('Salmonella number (log CFU/mL)')\n",
        "plt.legend()\n",
        "plt.title('B. cereus in shumai at 15\\u00B0C')\n",
        "plt.grid(True)\n",
        "plt.show()"
      ],
      "metadata": {
        "colab": {
          "base_uri": "https://localhost:8080/",
          "height": 487
        },
        "id": "gGvO41Nijs43",
        "outputId": "dee4804e-61b4-4c8b-96a4-25135a296f69"
      },
      "execution_count": 90,
      "outputs": [
        {
          "output_type": "display_data",
          "data": {
            "text/plain": [
              "<Figure size 800x500 with 1 Axes>"
            ],
            "image/png": "[encoded data removed]"
          },
          "metadata": {}
        }
      ]
    },
    {
      "cell_type": "code",
      "source": [
        "print(result.fit_report())"
      ],
      "metadata": {
        "colab": {
          "base_uri": "https://localhost:8080/"
        },
        "id": "JS5VIDqNj0Pe",
        "outputId": "c53a6e42-b6d5-4c0e-da0d-07d1ea5cf67a"
      },
      "execution_count": 84,
      "outputs": [
        {
          "output_type": "stream",
          "name": "stdout",
          "text": [
            "[[Model]]\n",
            "    Model(baranyi_dmfit)\n",
            "[[Fit Statistics]]\n",
            "    # fitting method   = leastsq\n",
            "    # function evals   = 47\n",
            "    # data points      = 16\n",
            "    # variables        = 4\n",
            "    chi-square         = 0.58011134\n",
            "    reduced chi-square = 0.04834261\n",
            "    Akaike info crit   = -45.0739833\n",
            "    Bayesian info crit = -41.9836284\n",
            "    R-squared          = 0.97932693\n",
            "[[Variables]]\n",
            "    y0:     3.83877524 +/- 0.10569211 (2.75%) (init = 3.906842)\n",
            "    y_end:  7.59806917 +/- 0.20883854 (2.75%) (init = 7.645313)\n",
            "    umax:   0.09822426 +/- 0.01048786 (10.68%) (init = 0.1)\n",
            "    lag:    22.4710802 +/- 2.62662202 (11.69%) (init = 5)\n",
            "[[Correlations]] (unreported correlations are < 0.100)\n",
            "    C(umax, lag)   = +0.8206\n",
            "    C(y0, lag)     = +0.7048\n",
            "    C(y_end, umax) = -0.4105\n",
            "    C(y0, umax)    = +0.3381\n",
            "    C(y_end, lag)  = -0.2612\n",
            "    C(y0, y_end)   = -0.1069\n"
          ]
        }
      ]
    }
  ]
}